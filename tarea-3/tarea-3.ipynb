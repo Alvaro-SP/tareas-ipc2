{
  "nbformat": 4,
  "nbformat_minor": 0,
  "metadata": {
    "colab": {
      "name": "3. Listas Doblemente enlazadas.ipynb",
      "provenance": []
    },
    "kernelspec": {
      "display_name": "Python 3",
      "name": "python3"
    },
    "language_info": {
      "name": "python"
    }
  },
  "cells": [
    {
      "cell_type": "code",
      "metadata": {
        "colab": {
          "base_uri": "https://localhost:8080/"
        },
        "id": "1qmGdFKW8tod",
        "outputId": "9dcd0878-769f-4397-aba4-900fa040efbd"
      },
      "source": [
        "print(\"Nombre: Alvaro Socop Carne : 202000194\")"
      ],
      "execution_count": 178,
      "outputs": [
        {
          "output_type": "stream",
          "text": [
            "Nombre: Alvaro Socop Carne : 202000194\n"
          ],
          "name": "stdout"
        }
      ]
    },
    {
      "cell_type": "markdown",
      "metadata": {
        "id": "LliMnnsetg6r"
      },
      "source": [
        "# **Listas Doblemente Enlazadas**\n",
        "## Definición de la clase Estudiante"
      ]
    },
    {
      "cell_type": "code",
      "metadata": {
        "id": "iUwKs6B8t8_G"
      },
      "source": [
        "class estudiante:\n",
        "  def __init__(self, carne, nombre, edad, direccion, telefono, email, carrera, puesto): #el self es como el this de java, indicandole que los atributos pertenecen a esa clase\n",
        "    self.carne = carne\n",
        "    self.nombre = nombre\n",
        "    self.edad = edad\n",
        "    self.direccion = direccion\n",
        "    self.telefono = telefono\n",
        "    self.email = email\n",
        "    self.carrera = carrera\n",
        "    self.puesto = puesto\n",
        "    \n"
      ],
      "execution_count": 179,
      "outputs": []
    },
    {
      "cell_type": "markdown",
      "metadata": {
        "id": "SvkMPjthzTyz"
      },
      "source": [
        "### **Definición de la clase nodo**"
      ]
    },
    {
      "cell_type": "code",
      "metadata": {
        "id": "9Vr1T4xer5x6"
      },
      "source": [
        "class nodo:\n",
        "  def __init__(self, estudiante=None, siguiente=None, anterior=None): #al construir funciones constructoras se le puede dar valores a los parametros que nosotros enviemos\n",
        "    self.estudiante = estudiante\n",
        "    self.siguiente = siguiente\n",
        "    self.anterior = anterior"
      ],
      "execution_count": 180,
      "outputs": []
    },
    {
      "cell_type": "markdown",
      "metadata": {
        "id": "xtqzTYn120Bj"
      },
      "source": [
        "**Definición de la clase Lista Doblemente Enlazada**"
      ]
    },
    {
      "cell_type": "code",
      "metadata": {
        "id": "AiNWeppR24Ai"
      },
      "source": [
        "#creación , insercion, eliminación, busqueda\n",
        "class lista_doble:\n",
        "  def __init__(self): #cuando la lista está vacía, solo tendriamos la lista con un elemento sin nada\n",
        "    #el elemento esta esperando a que se le agreguen nodos transformandolo en el nodo que se le envie como primero.\n",
        "    self.primero = None #al principio apunta a vacio\n",
        "  def insertar(self, est): #valor que se le va a registrar al nodo\n",
        "    if self.primero is None:\n",
        "      self.primero=nodo(estudiante=est) #estudiante es la variable que se encuentra en la clase Nodo\n",
        "\n",
        "    else:\n",
        "      actual = nodo(estudiante=est, siguiente=self.primero) \n",
        "      self.primero.anterior = actual\n",
        "      self.primero=actual\n",
        "     \n",
        "  def recorrer(self):\n",
        "    if self.primero is None:\n",
        "      return\n",
        "    actual=self.primero\n",
        "    print(\"carne: \", actual.estudiante.carne, \"nombre: \", actual.estudiante.nombre, \"email: \", actual.estudiante.email, \"-->\")\n",
        "    while actual.siguiente:\n",
        "      actual=actual.siguiente\n",
        "      print(\"carne: \", actual.estudiante.carne, \"nombre: \", actual.estudiante.nombre, \"email: \", actual.estudiante.email, \"-->\")\n",
        "  \n",
        "  def eliminar(self, carne):\n",
        "    actual=self.primero\n",
        "    while actual:\n",
        "      if actual.estudiante.carne==carne:\n",
        "        if actual.anterior:\n",
        "          if actual.siguiente:\n",
        "            actual.anterior.siguiente=actual.siguiente\n",
        "            actual.siguiente.anterior=actual.anterior\n",
        "          else:\n",
        "            actual.anterior.siguiente=None\n",
        "            actual.anterior=None\n",
        "        else:\n",
        "          if actual.siguiente:\n",
        "            self.primero=actual.siguiente\n",
        "            actual.siguiente.anterior=None\n",
        "          else:\n",
        "            self.primero=None\n",
        "        return True\n",
        "      else:\n",
        "        actual=actual.siguiente\n",
        "    return False\n",
        "\n",
        "  def search_node(self, carne):\n",
        "    actual=self.primero\n",
        "    while actual:\n",
        "      if actual.estudiante.carne==carne:\n",
        "        print(\"Se ha encontrado: \")\n",
        "        print(\"carne: \", actual.estudiante.carne, \"nombre: \", actual.estudiante.nombre, \"email: \", actual.estudiante.email, \"-->\")\n",
        "        if actual.anterior:\n",
        "          if actual.siguiente:\n",
        "            actual.anterior.siguiente=actual.siguiente\n",
        "            actual.siguiente.anterior=actual.anterior\n",
        "          else:\n",
        "            actual.anterior.siguiente=None\n",
        "            actual.anterior=None\n",
        "        else:\n",
        "          if actual.siguiente:\n",
        "            self.primero=actual.siguiente\n",
        "            actual.siguiente.anterior=None\n",
        "          else:\n",
        "            self.primero=None\n",
        "        return True\n",
        "      else:\n",
        "        actual=actual.siguiente\n",
        "    print(\"No se ha encontrado ese carne\")\n",
        "    return False\n",
        "\n",
        "      \n",
        "\n",
        "\n",
        "        "
      ],
      "execution_count": 181,
      "outputs": []
    },
    {
      "cell_type": "markdown",
      "metadata": {
        "id": "Z49PwRyJsdgJ"
      },
      "source": [
        "### **Creacion de objetos Estudiante**"
      ]
    },
    {
      "cell_type": "code",
      "metadata": {
        "id": "zKLe4t2aspuI"
      },
      "source": [
        "e1=estudiante(202000194, \"Alvaro Socop\",20, \"CASA\", 57707472, \"socop2412@gmail.com\", \"Ingenieria en Sistemas\", \"Estudiante\")\n",
        "e2=estudiante(123456, \"Gerardy Mandela\", \"Cayala\",15, 65849852, \"6515198@gmail.com\", \"Ingenieria en Mecatrónica\", \"Estudiante\")\n",
        "e3=estudiante(4444444, \"Albert Einstein\",18, \"Villa Hermosa\", 64198189, \"6549819@gmail.com\", \"Ingenieria Orgánica\", \"Estudiante\")\n",
        "e4=estudiante(123456789, \"Miguel Cardona\",16, \"Villa Nueva\", 9849819812, \"65195898@gmail.com\", \"Ingenieria Química\", \"Estudiante\")"
      ],
      "execution_count": 182,
      "outputs": []
    },
    {
      "cell_type": "markdown",
      "metadata": {
        "id": "tczhro-FtdRC"
      },
      "source": [
        "### **Inserción*"
      ]
    },
    {
      "cell_type": "code",
      "metadata": {
        "id": "aH9VfRRSthBi"
      },
      "source": [
        "lista_e = lista_doble()\n",
        "lista_e.insertar(e1)\n",
        "lista_e.insertar(e2)\n",
        "lista_e.insertar(e3)\n",
        "lista_e.insertar(e4)"
      ],
      "execution_count": 183,
      "outputs": []
    },
    {
      "cell_type": "markdown",
      "metadata": {
        "id": "k_Ky7URut-HS"
      },
      "source": [
        "### **Recorrer Lista**"
      ]
    },
    {
      "cell_type": "code",
      "metadata": {
        "colab": {
          "base_uri": "https://localhost:8080/"
        },
        "id": "a3lorW_muBwq",
        "outputId": "cfc35577-1744-476e-b69b-f3c60fdf876b"
      },
      "source": [
        "lista_e.recorrer()"
      ],
      "execution_count": 184,
      "outputs": [
        {
          "output_type": "stream",
          "text": [
            "carne:  123456789 nombre:  Miguel Cardona email:  65195898@gmail.com -->\n",
            "carne:  4444444 nombre:  Albert Einstein email:  6549819@gmail.com -->\n",
            "carne:  123456 nombre:  Gerardy Mandela email:  6515198@gmail.com -->\n",
            "carne:  202000194 nombre:  Alvaro Socop email:  socop2412@gmail.com -->\n"
          ],
          "name": "stdout"
        }
      ]
    },
    {
      "cell_type": "markdown",
      "metadata": {
        "id": "OnsTHH4G4TZq"
      },
      "source": [
        "Nodos:\n",
        "1er > 2do > 3ero\n",
        "\n",
        "Gerson > Karen > Luis"
      ]
    },
    {
      "cell_type": "markdown",
      "metadata": {
        "id": "myx-X_3Awi7r"
      },
      "source": [
        "### **Eliminar un nodo del medio lista**"
      ]
    },
    {
      "cell_type": "code",
      "metadata": {
        "id": "bG7b1dydwpHs",
        "colab": {
          "base_uri": "https://localhost:8080/"
        },
        "outputId": "c66e7241-2446-4e18-a33f-27ca9f33c858"
      },
      "source": [
        "lista_e.eliminar(123456789)\n",
        "lista_e.recorrer()"
      ],
      "execution_count": 185,
      "outputs": [
        {
          "output_type": "stream",
          "text": [
            "carne:  4444444 nombre:  Albert Einstein email:  6549819@gmail.com -->\n",
            "carne:  123456 nombre:  Gerardy Mandela email:  6515198@gmail.com -->\n",
            "carne:  202000194 nombre:  Alvaro Socop email:  socop2412@gmail.com -->\n"
          ],
          "name": "stdout"
        }
      ]
    },
    {
      "cell_type": "markdown",
      "metadata": {
        "id": "5jomf_l385Ux"
      },
      "source": [
        "### **Eliminar el ultimo nodo de mi lista**"
      ]
    },
    {
      "cell_type": "code",
      "metadata": {
        "colab": {
          "base_uri": "https://localhost:8080/"
        },
        "id": "IqudNuXy892f",
        "outputId": "1be6a1e5-a249-4ee9-9806-7199aa694eb0"
      },
      "source": [
        "lista_e.eliminar(202000194)\n",
        "lista_e.eliminar(4444444)\n",
        "lista_e.eliminar(123456)"
      ],
      "execution_count": 186,
      "outputs": [
        {
          "output_type": "execute_result",
          "data": {
            "text/plain": [
              "True"
            ]
          },
          "metadata": {},
          "execution_count": 186
        }
      ]
    },
    {
      "cell_type": "code",
      "metadata": {
        "id": "N-N8FDtr9D3f"
      },
      "source": [
        "lista_e.recorrer()"
      ],
      "execution_count": 187,
      "outputs": []
    },
    {
      "cell_type": "markdown",
      "metadata": {
        "id": "ICY0Tmtq9Qt2"
      },
      "source": [
        "### **Eliminar nodo a nodo de la lista**"
      ]
    },
    {
      "cell_type": "code",
      "metadata": {
        "id": "2jwWtlvc9VjL"
      },
      "source": [
        "lista_e.insertar(e1)\n",
        "lista_e.insertar(e2)\n",
        "lista_e.insertar(e3)\n",
        "lista_e.insertar(e4)"
      ],
      "execution_count": 188,
      "outputs": []
    },
    {
      "cell_type": "code",
      "metadata": {
        "colab": {
          "base_uri": "https://localhost:8080/"
        },
        "id": "hv6vowHE9ay3",
        "outputId": "04b3c8a4-b493-4a78-a8f7-0d01f78fc61a"
      },
      "source": [
        "lista_e.eliminar(123456789)"
      ],
      "execution_count": 189,
      "outputs": [
        {
          "output_type": "execute_result",
          "data": {
            "text/plain": [
              "True"
            ]
          },
          "metadata": {},
          "execution_count": 189
        }
      ]
    },
    {
      "cell_type": "code",
      "metadata": {
        "colab": {
          "base_uri": "https://localhost:8080/"
        },
        "id": "aKOb_sYg9zeZ",
        "outputId": "8f3f8db6-bb79-423d-94eb-94a48c711c30"
      },
      "source": [
        "lista_e.recorrer()"
      ],
      "execution_count": 190,
      "outputs": [
        {
          "output_type": "stream",
          "text": [
            "carne:  4444444 nombre:  Albert Einstein email:  6549819@gmail.com -->\n",
            "carne:  123456 nombre:  Gerardy Mandela email:  6515198@gmail.com -->\n",
            "carne:  202000194 nombre:  Alvaro Socop email:  socop2412@gmail.com -->\n"
          ],
          "name": "stdout"
        }
      ]
    },
    {
      "cell_type": "code",
      "metadata": {
        "colab": {
          "base_uri": "https://localhost:8080/"
        },
        "id": "iXMQESyJ95Fv",
        "outputId": "7cab3bb0-668d-463b-c0af-e7d87c3e9455"
      },
      "source": [
        "lista_e.eliminar(4444444)\n",
        "lista_e.recorrer()"
      ],
      "execution_count": 191,
      "outputs": [
        {
          "output_type": "stream",
          "text": [
            "carne:  123456 nombre:  Gerardy Mandela email:  6515198@gmail.com -->\n",
            "carne:  202000194 nombre:  Alvaro Socop email:  socop2412@gmail.com -->\n"
          ],
          "name": "stdout"
        }
      ]
    },
    {
      "cell_type": "code",
      "metadata": {
        "colab": {
          "base_uri": "https://localhost:8080/"
        },
        "id": "oqXKdnfC-o14",
        "outputId": "f48ff835-107c-414e-9bcb-013151283d14"
      },
      "source": [
        "lista_e.eliminar(123456)\n",
        "lista_e.recorrer()"
      ],
      "execution_count": 192,
      "outputs": [
        {
          "output_type": "stream",
          "text": [
            "carne:  202000194 nombre:  Alvaro Socop email:  socop2412@gmail.com -->\n"
          ],
          "name": "stdout"
        }
      ]
    },
    {
      "cell_type": "code",
      "metadata": {
        "id": "9fXYJc7T-rSu"
      },
      "source": [
        "lista_e.eliminar(202000194)\n",
        "lista_e.recorrer()"
      ],
      "execution_count": 193,
      "outputs": []
    },
    {
      "cell_type": "code",
      "metadata": {
        "id": "174EC5s4CHY8"
      },
      "source": [
        "lista_e.insertar(e1)\n",
        "lista_e.insertar(e2)\n",
        "lista_e.insertar(e3)\n",
        "lista_e.insertar(e4)"
      ],
      "execution_count": 194,
      "outputs": []
    },
    {
      "cell_type": "markdown",
      "metadata": {
        "id": "5cjh4QAtBGPF"
      },
      "source": [
        "## **Buscar un nodo lista**"
      ]
    },
    {
      "cell_type": "code",
      "metadata": {
        "id": "EbVyxD-CBSCO",
        "colab": {
          "base_uri": "https://localhost:8080/"
        },
        "outputId": "f57a42de-b546-4200-ba40-67a06ec8f2e5"
      },
      "source": [
        "lista_e.search_node(202000194)"
      ],
      "execution_count": 195,
      "outputs": [
        {
          "output_type": "stream",
          "text": [
            "Se ha encontrado: \n",
            "carne:  202000194 nombre:  Alvaro Socop email:  socop2412@gmail.com -->\n"
          ],
          "name": "stdout"
        },
        {
          "output_type": "execute_result",
          "data": {
            "text/plain": [
              "True"
            ]
          },
          "metadata": {},
          "execution_count": 195
        }
      ]
    },
    {
      "cell_type": "code",
      "metadata": {
        "colab": {
          "base_uri": "https://localhost:8080/"
        },
        "id": "swqdf1Q-Cfw7",
        "outputId": "c57effca-3349-4cfe-e01f-3a68095ca28c"
      },
      "source": [
        "lista_e.search_node(\"hola\")"
      ],
      "execution_count": 196,
      "outputs": [
        {
          "output_type": "stream",
          "text": [
            "No se ha encontrado ese carne\n"
          ],
          "name": "stdout"
        },
        {
          "output_type": "execute_result",
          "data": {
            "text/plain": [
              "False"
            ]
          },
          "metadata": {},
          "execution_count": 196
        }
      ]
    },
    {
      "cell_type": "code",
      "metadata": {
        "id": "vlMu771BePfs"
      },
      "source": [
        ""
      ],
      "execution_count": 196,
      "outputs": []
    }
  ]
}