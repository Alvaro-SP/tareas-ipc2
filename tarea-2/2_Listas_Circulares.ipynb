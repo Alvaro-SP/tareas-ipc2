{
  "nbformat": 4,
  "nbformat_minor": 0,
  "metadata": {
    "colab": {
      "name": "2. Listas Circulares.ipynb",
      "provenance": []
    },
    "kernelspec": {
      "display_name": "Python 3",
      "name": "python3"
    },
    "language_info": {
      "name": "python"
    }
  },
  "cells": [
    {
      "cell_type": "code",
      "metadata": {
        "colab": {
          "base_uri": "https://localhost:8080/"
        },
        "id": "1qmGdFKW8tod",
        "outputId": "05017f5b-dbb7-4ad1-b09a-42078f6436da"
      },
      "source": [
        "print(\"Nombre: Alvaro Socop Carne : 202000194\")"
      ],
      "execution_count": 11,
      "outputs": [
        {
          "output_type": "stream",
          "text": [
            "Nombre: Alvaro Socop Carne : 202000194\n"
          ],
          "name": "stdout"
        }
      ]
    },
    {
      "cell_type": "markdown",
      "metadata": {
        "id": "LliMnnsetg6r"
      },
      "source": [
        "# **Listas Circulares**\n",
        "## Definición de la clase Estudiante"
      ]
    },
    {
      "cell_type": "code",
      "metadata": {
        "id": "iUwKs6B8t8_G"
      },
      "source": [
        "class estudiante:\n",
        "  def __init__(self, carne, nombre, edad, direccion, telefono, email, carrera, puesto): #el self es como el this de java, indicandole que los atributos pertenecen a esa clase\n",
        "    self.carne = carne\n",
        "    self.nombre = nombre\n",
        "    self.edad = edad\n",
        "    self.direccion = direccion\n",
        "    self.telefono = telefono\n",
        "    self.email = email\n",
        "    self.carrera = carrera\n",
        "    self.puesto = puesto\n",
        "    \n"
      ],
      "execution_count": 12,
      "outputs": []
    },
    {
      "cell_type": "markdown",
      "metadata": {
        "id": "SvkMPjthzTyz"
      },
      "source": [
        "### **Definición de la clase nodo**"
      ]
    },
    {
      "cell_type": "code",
      "metadata": {
        "id": "9Vr1T4xer5x6"
      },
      "source": [
        "class nodo:\n",
        "  def __init__(self, estudiante=None, siguiente=None): #al construir funciones constructoras se le puede dar valores a los parametros que nosotros enviemos\n",
        "    self.estudiante = estudiante\n",
        "    self.siguiente = siguiente\n"
      ],
      "execution_count": 13,
      "outputs": []
    },
    {
      "cell_type": "markdown",
      "metadata": {
        "id": "xtqzTYn120Bj"
      },
      "source": [
        "**Definición de la clase Lista Circular**"
      ]
    },
    {
      "cell_type": "code",
      "metadata": {
        "id": "AiNWeppR24Ai"
      },
      "source": [
        "#creación , insercion, eliminación, busqueda\n",
        "class lista_circular:\n",
        "  def __init__(self): #cuando la lista está vacía, solo tendriamos la lista con un elemento sin nada\n",
        "    #el elemento esta esperando a que se le agreguen nodos transformandolo en el nodo que se le envie como primero.\n",
        "    self.primero = None #al principio apunta a vacio\n",
        "  def insertar(self, est):#necesitamos enviarle un nodo porque es parte el estudiante de ese nodo.\n",
        "    if self.primero is None:\n",
        "      self.primero=nodo(estudiante=est) #estudiante es la variable que se encuentra en la clase Nodo\n",
        "      self.primero.siguiente=self.primero\n",
        "    else:\n",
        "      actual=nodo(estudiante=est, siguiente = self.primero.siguiente)\n",
        "      self.primero.siguiente=actual\n",
        "\n",
        "  def recorrer(self):\n",
        "    if self.primero is None:\n",
        "      return\n",
        "    actual=self.primero\n",
        "    print(\"carne: \", actual.estudiante.carne, \"nombre: \", actual.estudiante.nombre, \"email: \", actual.estudiante.email, \"-->\")\n",
        "    while actual.siguiente != self.primero:\n",
        "      actual = actual.siguiente\n",
        "      print(\"carne: \", actual.estudiante.carne, \"nombre: \", actual.estudiante.nombre, \"email: \", actual.estudiante.email, \"-->\")\n",
        "\n",
        "  def eliminar(self, carne):\n",
        "    actual=self.primero\n",
        "    anterior=None\n",
        "    no_encontrado = False\n",
        "    while actual and actual.estudiante.carne != carne:\n",
        "      anterior=actual\n",
        "      actual = actual.siguiente\n",
        "      if actual==self.primero:\n",
        "        no_encontrado=True\n",
        "        break\n",
        "    if not no_encontrado:        \n",
        "      if anterior is not None:\n",
        "        anterior.siguiente=actual.siguiente        \n",
        "      else:\n",
        "        while actual.siguiente != self.primero:\n",
        "          actual=actual.siguiente\n",
        "        actual.siguiente=self.primero.siguiente\n",
        "        self.primero=self.primero.siguiente\n",
        "\n",
        "  def buscar(self, carne):\n",
        "    actual=self.primero\n",
        "    anterior=None\n",
        "    no_encontrado = False\n",
        "    while actual and actual.estudiante.carne != carne:\n",
        "      anterior=actual\n",
        "      actual = actual.siguiente\n",
        "      if actual==self.primero:\n",
        "        no_encontrado=True\n",
        "        print(\"No se encontro el estudiante con ese carne.\")\n",
        "        break\n",
        "    if not no_encontrado:\n",
        "      print(\"el estudiante encontrado es: \", actual.estudiante.carne)\n",
        "      print(\"carne: \", actual.estudiante.carne, \"nombre: \", actual.estudiante.nombre, \"email: \", actual.estudiante.email, \"-->\")        \n",
        "      if anterior is not None:\n",
        "        anterior.siguiente=actual.siguiente        \n",
        "      else:\n",
        "        while actual.siguiente != self.primero:\n",
        "          \n",
        "          actual=actual.siguiente\n",
        "          \n",
        "          \n",
        "        actual.siguiente=self.primero.siguiente\n",
        "        self.primero=self.primero.siguiente\n",
        "\n",
        "\n",
        "\n",
        "              "
      ],
      "execution_count": 14,
      "outputs": []
    },
    {
      "cell_type": "markdown",
      "metadata": {
        "id": "Z49PwRyJsdgJ"
      },
      "source": [
        "### **Creacion de objetos Estudiante**"
      ]
    },
    {
      "cell_type": "code",
      "metadata": {
        "id": "zKLe4t2aspuI"
      },
      "source": [
        "e1=estudiante(202000194, \"Alvaro Socop\",20, \"CASA\", 57707472, \"socop2412@gmail.com\", \"Ingenieria en Sistemas\", \"Estudiante\")\n",
        "e2=estudiante(123456, \"Persona2\", \"Cayala\",15, 65849852, \"6515198@gmail.com\", \"Ingenieria en Sistemas\", \"Estudiante\")\n",
        "e3=estudiante(4444444, \"Fernando Socop\",18, \"Villa Hermosa\", 64198189, \"6549819@gmail.com\", \"Ingenieria en Sistemas\", \"Estudiante\")\n",
        "e4=estudiante(123456789, \"Mauricio Socop\",16, \"Villa Nueva\", 9849819812, \"65195898@gmail.com\", \"Ingenieria Química\", \"Estudiante\")"
      ],
      "execution_count": 15,
      "outputs": []
    },
    {
      "cell_type": "markdown",
      "metadata": {
        "id": "tczhro-FtdRC"
      },
      "source": [
        "### **Inserción*"
      ]
    },
    {
      "cell_type": "code",
      "metadata": {
        "id": "aH9VfRRSthBi"
      },
      "source": [
        "lista_e = lista_circular()\n",
        "lista_e.insertar(e1)\n",
        "lista_e.insertar(e2)\n",
        "lista_e.insertar(e3)\n",
        "lista_e.insertar(e4)"
      ],
      "execution_count": 16,
      "outputs": []
    },
    {
      "cell_type": "markdown",
      "metadata": {
        "id": "k_Ky7URut-HS"
      },
      "source": [
        "### **Recorrer Lista**"
      ]
    },
    {
      "cell_type": "code",
      "metadata": {
        "colab": {
          "base_uri": "https://localhost:8080/"
        },
        "id": "a3lorW_muBwq",
        "outputId": "49dd3ff7-2eb3-4967-9a48-3642e96ebedd"
      },
      "source": [
        "lista_e.recorrer()"
      ],
      "execution_count": 17,
      "outputs": [
        {
          "output_type": "stream",
          "text": [
            "carne:  202000194 nombre:  Alvaro Socop email:  socop2412@gmail.com -->\n",
            "carne:  123456789 nombre:  Mauricio Socop email:  65195898@gmail.com -->\n",
            "carne:  4444444 nombre:  Fernando Socop email:  6549819@gmail.com -->\n",
            "carne:  123456 nombre:  Persona2 email:  6515198@gmail.com -->\n"
          ],
          "name": "stdout"
        }
      ]
    },
    {
      "cell_type": "markdown",
      "metadata": {
        "id": "OnsTHH4G4TZq"
      },
      "source": [
        "Nodos:\n",
        "1er > 2do > 3ero\n",
        "\n",
        "Gerson > Karen > Luis"
      ]
    },
    {
      "cell_type": "markdown",
      "metadata": {
        "id": "myx-X_3Awi7r"
      },
      "source": [
        "### **Eliminar un nodo lista**"
      ]
    },
    {
      "cell_type": "code",
      "metadata": {
        "colab": {
          "base_uri": "https://localhost:8080/"
        },
        "id": "bG7b1dydwpHs",
        "outputId": "c3575040-0894-4aa0-86b3-45e9d7ba2e2e"
      },
      "source": [
        "lista_e.eliminar(123456789)\n",
        "lista_e.eliminar(55)\n",
        "lista_e.recorrer()"
      ],
      "execution_count": 18,
      "outputs": [
        {
          "output_type": "stream",
          "text": [
            "carne:  202000194 nombre:  Alvaro Socop email:  socop2412@gmail.com -->\n",
            "carne:  4444444 nombre:  Fernando Socop email:  6549819@gmail.com -->\n",
            "carne:  123456 nombre:  Persona2 email:  6515198@gmail.com -->\n"
          ],
          "name": "stdout"
        }
      ]
    },
    {
      "cell_type": "code",
      "metadata": {
        "id": "hZz6egj1tHdU"
      },
      "source": [
        "### **Buscar un nodo lista**"
      ],
      "execution_count": 19,
      "outputs": []
    },
    {
      "cell_type": "code",
      "metadata": {
        "colab": {
          "base_uri": "https://localhost:8080/"
        },
        "id": "hMc9jGAQtK7U",
        "outputId": "ea6d0ad9-e09b-43b5-cbb1-9da90bf7a9e0"
      },
      "source": [
        "lista_e.buscar(202000194)"
      ],
      "execution_count": 20,
      "outputs": [
        {
          "output_type": "stream",
          "text": [
            "el estudiante encontrado es:  202000194\n",
            "carne:  202000194 nombre:  Alvaro Socop email:  socop2412@gmail.com -->\n"
          ],
          "name": "stdout"
        }
      ]
    }
  ]
}